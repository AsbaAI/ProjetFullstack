{
 "cells": [
  {
   "cell_type": "markdown",
   "metadata": {},
   "source": [
    "# Gestions des exceptions (Suite)"
   ]
  },
  {
   "cell_type": "code",
   "execution_count": 1,
   "metadata": {},
   "outputs": [],
   "source": [
    "def partage_addition():\n",
    "    \n",
    "    try:\n",
    "        total_addition = float(input('Quel est le montant de la facture de restaurant ?'))\n",
    "        total_personnes = float(input('Combien de personnes étaient présentes ?'))\n",
    "        part_personne = total_addition / total_personnes\n",
    "    except ValueError:\n",
    "        print('Merci d entrer des nombres entiers')\n",
    "    except ZeroDivisionError:\n",
    "        print('Merci de donner un nombre d invités supérieur à zéro')\n",
    "    else:\n",
    "        print('le montant de l addition par personne est de {}'.format(part_personne))"
   ]
  },
  {
   "cell_type": "code",
   "execution_count": 4,
   "metadata": {},
   "outputs": [
    {
     "name": "stdin",
     "output_type": "stream",
     "text": [
      "Quel est le montant de la facture de restaurant ? 200\n",
      "Combien de personnes étaient présentes ? 0\n"
     ]
    },
    {
     "name": "stdout",
     "output_type": "stream",
     "text": [
      "Merci de donner un nombre d invités supérieur à zéro\n"
     ]
    }
   ],
   "source": [
    "partage_addition()"
   ]
  },
  {
   "cell_type": "markdown",
   "metadata": {},
   "source": [
    "# La POO et les Classes"
   ]
  },
  {
   "cell_type": "code",
   "execution_count": 86,
   "metadata": {},
   "outputs": [],
   "source": [
    "class Garage():\n",
    "    \n",
    "    def __init__(self, employes, clients, voitures_a_reparer, voitures_reparees):\n",
    "        self.employes = employes\n",
    "        self.clients = clients\n",
    "        self.voitures_a_reparer = voitures_a_reparer\n",
    "        self.voitures_reparees = voitures_reparees\n",
    "        \n",
    "    def recrute_employes(self, nombre_employes):\n",
    "        self.employes += nombre_employes\n",
    "    \n",
    "    def license_employes(self, nombre_employes):\n",
    "        if nombre_employes > self.employes:\n",
    "            raise ValueError('Il y a actuellement {} employes dans le garage. Vous ne pouvez pas les licensier'.format(self.employes))\n",
    "        else:\n",
    "            self.employes -= nombre_employes\n",
    "    \n",
    "    def client_apporte_voiture(self, nombre_voiture, nouveau_client):\n",
    "        self.voitures_a_reparer += nombre_voiture\n",
    "        if nouveau_client == True:\n",
    "            self.clients += 1\n",
    "    \n",
    "    def reparer_voitures(self, nombre_voiture):\n",
    "        if nombre_voiture > self.voitures_a_reparer:\n",
    "            raise ValueError('Il y a actuellement {} voitures dans le garage. On ne peut pas les réparer'.format(self.voitures_a_reparer))\n",
    "        else:\n",
    "            self.voitures_reparees += nombre_voiture\n",
    "            self.voitures_a_reparer -= nombre_voiture\n",
    "            \n",
    "    def affiche_infos(self):\n",
    "        print('Nombre employés : {}'.format(self.employes))\n",
    "        print('Nombre clients : {}'.format(self.clients))\n",
    "        print('Voitures à réparer : {}'.format(self.voitures_a_reparer))\n",
    "        print('Voitures réparées : {}'.format(self.voitures_reparees))"
   ]
  },
  {
   "cell_type": "code",
   "execution_count": null,
   "metadata": {},
   "outputs": [],
   "source": []
  },
  {
   "cell_type": "code",
   "execution_count": 61,
   "metadata": {},
   "outputs": [],
   "source": [
    "# Instanciation de classe \n",
    "\n",
    "garage1 = Garage()"
   ]
  },
  {
   "cell_type": "code",
   "execution_count": 62,
   "metadata": {},
   "outputs": [],
   "source": [
    "garage1.recrute_employes(5)"
   ]
  },
  {
   "cell_type": "code",
   "execution_count": 63,
   "metadata": {},
   "outputs": [
    {
     "name": "stdout",
     "output_type": "stream",
     "text": [
      "Nombre employés : 5\n",
      "Nombre clients : 0\n",
      "Voitures à réparer : 0\n",
      "Voitures réparées : 0\n"
     ]
    }
   ],
   "source": [
    "garage1.affiche_infos()"
   ]
  },
  {
   "cell_type": "code",
   "execution_count": 64,
   "metadata": {},
   "outputs": [],
   "source": [
    "garage1.license_employes(2)"
   ]
  },
  {
   "cell_type": "code",
   "execution_count": 65,
   "metadata": {},
   "outputs": [
    {
     "name": "stdout",
     "output_type": "stream",
     "text": [
      "Nombre employés : 3\n",
      "Nombre clients : 0\n",
      "Voitures à réparer : 0\n",
      "Voitures réparées : 0\n"
     ]
    }
   ],
   "source": [
    "garage1.affiche_infos()"
   ]
  },
  {
   "cell_type": "code",
   "execution_count": 66,
   "metadata": {},
   "outputs": [],
   "source": [
    "garage1.client_apporte_voiture(5, True)"
   ]
  },
  {
   "cell_type": "code",
   "execution_count": 67,
   "metadata": {},
   "outputs": [
    {
     "name": "stdout",
     "output_type": "stream",
     "text": [
      "Nombre employés : 3\n",
      "Nombre clients : 1\n",
      "Voitures à réparer : 5\n",
      "Voitures réparées : 0\n"
     ]
    }
   ],
   "source": [
    "garage1.affiche_infos()"
   ]
  },
  {
   "cell_type": "code",
   "execution_count": 68,
   "metadata": {},
   "outputs": [],
   "source": [
    "garage1.reparer_voitures(2)"
   ]
  },
  {
   "cell_type": "code",
   "execution_count": 69,
   "metadata": {},
   "outputs": [
    {
     "name": "stdout",
     "output_type": "stream",
     "text": [
      "Nombre employés : 3\n",
      "Nombre clients : 1\n",
      "Voitures à réparer : 3\n",
      "Voitures réparées : 2\n"
     ]
    }
   ],
   "source": [
    "garage1.affiche_infos()"
   ]
  },
  {
   "cell_type": "code",
   "execution_count": 84,
   "metadata": {},
   "outputs": [],
   "source": [
    "# Deuxième garage\n",
    "\n",
    "garage2 = Garage(5, 10, 4, 1)"
   ]
  },
  {
   "cell_type": "code",
   "execution_count": 85,
   "metadata": {},
   "outputs": [
    {
     "name": "stdout",
     "output_type": "stream",
     "text": [
      "Nombre employés : 5\n",
      "Nombre clients : 10\n",
      "Voitures à réparer : 4\n",
      "Voitures réparées : 1\n"
     ]
    }
   ],
   "source": [
    "garage2.affiche_infos()"
   ]
  },
  {
   "cell_type": "code",
   "execution_count": 77,
   "metadata": {},
   "outputs": [],
   "source": [
    "garage2.license_employes(3)"
   ]
  },
  {
   "cell_type": "code",
   "execution_count": 78,
   "metadata": {},
   "outputs": [
    {
     "name": "stdout",
     "output_type": "stream",
     "text": [
      "Nombre employés : 2\n",
      "Nombre clients : 10\n",
      "Voitures à réparer : 4\n",
      "Voitures réparées : 1\n"
     ]
    }
   ],
   "source": [
    "garage2.affiche_infos()"
   ]
  },
  {
   "cell_type": "code",
   "execution_count": null,
   "metadata": {},
   "outputs": [],
   "source": []
  }
 ],
 "metadata": {
  "kernelspec": {
   "display_name": "Python 3",
   "language": "python",
   "name": "python3"
  },
  "language_info": {
   "codemirror_mode": {
    "name": "ipython",
    "version": 3
   },
   "file_extension": ".py",
   "mimetype": "text/x-python",
   "name": "python",
   "nbconvert_exporter": "python",
   "pygments_lexer": "ipython3",
   "version": "3.8.6"
  }
 },
 "nbformat": 4,
 "nbformat_minor": 4
}
